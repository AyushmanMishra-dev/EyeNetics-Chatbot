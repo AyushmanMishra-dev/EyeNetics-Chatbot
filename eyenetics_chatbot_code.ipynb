{
 "cells": [
  {
   "cell_type": "code",
   "execution_count": 1,
   "metadata": {
    "id": "xB6Sum8xnw3e"
   },
   "outputs": [],
   "source": [
    "import chromadb\n",
    "\n",
    "client = chromadb.Client()\n",
    "\n",
    "collection = client.create_collection(\"eye_demo\")"
   ]
  },
  {
   "cell_type": "markdown",
   "metadata": {
    "id": "-3ILWMStvKJA"
   },
   "source": [
    "By default, Chroma uses the Sentence Transformers all-MiniLM-L6-v2 model to create embeddings."
   ]
  },
  {
   "cell_type": "code",
   "execution_count": 2,
   "metadata": {
    "colab": {
     "base_uri": "https://localhost:8080/"
    },
    "id": "DOLLVxcdoMxA",
    "outputId": "04f455d8-cd38-4289-f364-23f838d57453"
   },
   "outputs": [],
   "source": [
    "collection.add(\n",
    "    documents=[\"This is a document about definition\", \"This is a document about size\"],\n",
    "    metadatas=[{\"category\": \"definition\"}, {\"category\": \"size\"}],\n",
    "    ids=[\"id1\", \"id2\"]\n",
    ")"
   ]
  },
  {
   "cell_type": "code",
   "execution_count": 3,
   "metadata": {
    "colab": {
     "base_uri": "https://localhost:8080/"
    },
    "id": "tTYUHlNFoScw",
    "outputId": "15b1b81e-5054-464c-fc0e-d41b41e7df94"
   },
   "outputs": [
    {
     "data": {
      "text/plain": [
       "{'ids': [['id1']],\n",
       " 'distances': [[1.596395492553711]],\n",
       " 'metadatas': [[{'category': 'definition'}]],\n",
       " 'embeddings': None,\n",
       " 'documents': [['This is a document about definition']]}"
      ]
     },
     "execution_count": 3,
     "metadata": {},
     "output_type": "execute_result"
    }
   ],
   "source": [
    "results = collection.query(\n",
    "    query_texts=[\"vehicle\"],\n",
    "    n_results=1\n",
    ")\n",
    "results"
   ]
  },
  {
   "cell_type": "code",
   "execution_count": 4,
   "metadata": {
    "colab": {
     "base_uri": "https://localhost:8080/"
    },
    "id": "ovRRWCnbtHjI",
    "outputId": "b5a95216-7b11-4743-adf6-04a6d20a0960"
   },
   "outputs": [
    {
     "name": "stdout",
     "output_type": "stream",
     "text": [
      "File Name: characteristic.txt\n",
      "Content: Size of Microaneurysms: Typically ranging from 20 to 200 micrometers in diameter.\n",
      "Appearance: Round or oval-shaped lesions observable in retinal imaging.\n",
      "Location: Predominantly found in the fundus of the eye, specifically within the retinal layers.\n",
      "\n",
      "\n",
      "File Name: clinical importance.txt\n",
      "Content: Early Detection: Microaneurysms are critical markers for early stages of diabetic retinopathy.\n",
      "Risk Stratification: Their presence indicates an increased risk of disease progression to more severe stages.\n",
      "Monitoring: Regular monitoring of microaneurysms helps in assessing the efficacy of therapeutic interventions.\n",
      "\n",
      "\n",
      "File Name: definition.txt\n",
      "Content: Microaneurysms are minute dilations of small blood vessels, primarily capillaries, characterized by localized outpouchings. Their formation is often associated with chronic hypertension and microvascular damage, especially in conditions like diabetic retinopathy.\n",
      "\n",
      "File Name: detailed_info.txt\n",
      "Content: # ChromaDB\n",
      "\n",
      "## Microaneurysms\n",
      "\n",
      "Microaneurysms are small, round dilations of blood vessels, particularly capillaries.\n",
      "\n",
      "### Characteristics\n",
      "\n",
      "- Size: Typically 20 to 200 micrometers in diameter.\n",
      "- Appearance: Round or oval-shaped lesions in retinal imaging.\n",
      "- Location: Predominantly found in the retinal layers.\n",
      "\n",
      "### Pathophysiology\n",
      "\n",
      "Microaneurysms often develop due to chronic hypertension and weakening of vessel walls. In diabetic retinopathy, high blood sugar levels contribute to endothelial damage, leading to microaneurysm formation.\n",
      "\n",
      "## Diagnostic Tools\n",
      "\n",
      "Various imaging techniques are used to visualize and diagnose microaneurysms.\n",
      "\n",
      "### Fluorescein Angiography\n",
      "\n",
      "This technique highlights retinal blood vessels, making microaneurysms visible.\n",
      "\n",
      "### Optical Coherence Tomography (OCT)\n",
      "\n",
      "OCT provides detailed cross-sectional images, aiding in the quantification and assessment of microaneurysms.\n",
      "\n",
      "## Treatment Options\n",
      "\n",
      "Management of microaneurysms involves addressing the underlying cause.\n",
      "\n",
      "### Laser Photocoagulation\n",
      "\n",
      "Used to seal leaking microaneurysms, reducing the risk of complications.\n",
      "\n",
      "### Anti-VEGF Therapy\n",
      "\n",
      "Administered to mitigate vascular endothelial growth factor-related effects in certain cases.\n",
      "\n",
      "\n",
      "File Name: surgeries.txt\n",
      "Content: Treatment Options/Surgeries for Microaneurysms:\n",
      "\n",
      "Underlying Cause: Management involves addressing the root cause, such as optimizing blood glucose control.\n",
      "Laser Photocoagulation: Used to seal leaking microaneurysms, reducing the risk of complications.\n",
      "Anti-VEGF Therapy: Administered to mitigate vascular endothelial growth factor-related effects in certain cases.\n",
      "\n"
     ]
    }
   ],
   "source": [
    "import os\n",
    "\n",
    "def read_files_from_folder(folder_path):\n",
    "    file_data = []\n",
    "\n",
    "    for file_name in os.listdir(folder_path):\n",
    "        if file_name.endswith(\".txt\"):\n",
    "            with open(os.path.join(folder_path, file_name), 'r') as file:\n",
    "                content = file.read()\n",
    "                file_data.append({\"file_name\": file_name, \"content\": content})\n",
    "\n",
    "    return file_data\n",
    "\n",
    "folder_path = \"eye_info\"  # your folder path\n",
    "file_data = read_files_from_folder(folder_path)\n",
    "\n",
    "for data in file_data:\n",
    "    print(f\"File Name: {data['file_name']}\")\n",
    "    print(f\"Content: {data['content']}\\n\")"
   ]
  },
  {
   "cell_type": "code",
   "execution_count": 5,
   "metadata": {
    "id": "a8DyrATKvb-E"
   },
   "outputs": [],
   "source": [
    "documents = []\n",
    "metadatas = []\n",
    "ids = []\n",
    "for index,data in enumerate(file_data):\n",
    "  documents.append(data['content'])\n",
    "  metadatas.append({'source':data['file_name']})\n",
    "  ids.append(str(index+1))"
   ]
  },
  {
   "cell_type": "code",
   "execution_count": 6,
   "metadata": {
    "colab": {
     "base_uri": "https://localhost:8080/"
    },
    "id": "7fW9Odtav8gE",
    "outputId": "3ebfa29e-73e6-4909-b940-81b431a77b84"
   },
   "outputs": [
    {
     "data": {
      "text/plain": [
       "[{'source': 'characteristic.txt'},\n",
       " {'source': 'clinical importance.txt'},\n",
       " {'source': 'definition.txt'},\n",
       " {'source': 'detailed_info.txt'},\n",
       " {'source': 'surgeries.txt'}]"
      ]
     },
     "execution_count": 6,
     "metadata": {},
     "output_type": "execute_result"
    }
   ],
   "source": [
    "metadatas"
   ]
  },
  {
   "cell_type": "code",
   "execution_count": 7,
   "metadata": {
    "id": "UtGTFkGfotBh"
   },
   "outputs": [],
   "source": [
    "# import chromadb\n",
    "# from chromadb.config import Settings\n",
    "# client_2 = chromadb.Client(Settings(\n",
    "#     chroma_db_impl=\"duckdb+parquet\",\n",
    "#     persist_directory=\"code/EyeNetics_ChatBOT/chat_db\" # Optional, defaults to .chromadb/ in the current directory\n",
    "# ))"
   ]
  },
  {
   "cell_type": "code",
   "execution_count": 8,
   "metadata": {
    "id": "fdnhyH9JvUlo"
   },
   "outputs": [],
   "source": [
    "eye_collection = client.create_collection(\"eye_collection\")\n",
    "eye_collection.add(\n",
    "    documents=documents,\n",
    "    metadatas=metadatas,\n",
    "    ids=ids\n",
    ")"
   ]
  },
  {
   "cell_type": "code",
   "execution_count": 9,
   "metadata": {
    "colab": {
     "base_uri": "https://localhost:8080/"
    },
    "id": "33aGfR2WwQ0J",
    "outputId": "4d2f3dbb-7e03-4499-fc09-f9481e77cfcb"
   },
   "outputs": [],
   "source": [
    "def chat_query(input_query):\n",
    "    results = eye_collection.query(\n",
    "    query_texts=[input_query],\n",
    "    n_results=1)\n",
    "    return results['documents'][0][0]"
   ]
  },
  {
   "cell_type": "code",
   "execution_count": 13,
   "metadata": {},
   "outputs": [
    {
     "name": "stdout",
     "output_type": "stream",
     "text": [
      "Treatment Options/Surgeries for Microaneurysms:\n",
      "\n",
      "Underlying Cause: Management involves addressing the root cause, such as optimizing blood glucose control.\n",
      "Laser Photocoagulation: Used to seal leaking microaneurysms, reducing the risk of complications.\n",
      "Anti-VEGF Therapy: Administered to mitigate vascular endothelial growth factor-related effects in certain cases.\n"
     ]
    }
   ],
   "source": [
    "x=chat_query(\"surgeries for microaneurysm\")\n",
    "print(x)\n"
   ]
  },
  {
   "cell_type": "code",
   "execution_count": null,
   "metadata": {},
   "outputs": [],
   "source": []
  },
  {
   "cell_type": "code",
   "execution_count": null,
   "metadata": {},
   "outputs": [],
   "source": []
  }
 ],
 "metadata": {
  "colab": {
   "provenance": []
  },
  "kernelspec": {
   "display_name": "Python 3 (ipykernel)",
   "language": "python",
   "name": "python3"
  },
  "language_info": {
   "codemirror_mode": {
    "name": "ipython",
    "version": 3
   },
   "file_extension": ".py",
   "mimetype": "text/x-python",
   "name": "python",
   "nbconvert_exporter": "python",
   "pygments_lexer": "ipython3",
   "version": "3.11.6"
  }
 },
 "nbformat": 4,
 "nbformat_minor": 1
}
